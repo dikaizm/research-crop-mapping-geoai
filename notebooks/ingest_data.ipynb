{
 "cells": [
  {
   "cell_type": "code",
   "execution_count": null,
   "id": "ff0df4b3",
   "metadata": {},
   "outputs": [],
   "source": [
    "import gdown\n",
    "\n",
    "file_id = \"1iTg-D2pw9NuYUI9ZDfQpgip6VKGZdXwk\"\n",
    "output = \"../data/raw/images/S2H_2024_2024_07_29.tif\"\n",
    "\n",
    "gdown.download(id=file_id, output=output, quiet=False)"
   ]
  }
 ],
 "metadata": {
  "language_info": {
   "name": "python"
  }
 },
 "nbformat": 4,
 "nbformat_minor": 5
}
