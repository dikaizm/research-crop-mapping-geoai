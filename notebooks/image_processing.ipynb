{
 "cells": [
  {
   "cell_type": "markdown",
   "id": "183d1d7e",
   "metadata": {},
   "source": [
    "## Reload library"
   ]
  },
  {
   "cell_type": "code",
   "execution_count": 1,
   "id": "ad60e894",
   "metadata": {},
   "outputs": [
    {
     "data": {
      "text/plain": [
       "<module 'geoai.utils' from '/Users/dikaizm/Documents/PROGRAMMING/ml-ai/research-crop-mapping-thesis/geoai/geoai/utils.py'>"
      ]
     },
     "execution_count": 1,
     "metadata": {},
     "output_type": "execute_result"
    }
   ],
   "source": [
    "import importlib\n",
    "import geoai.label_utils\n",
    "import geoai.utils\n",
    "\n",
    "import sys\n",
    "sys.path.append(\"../\")\n",
    "\n",
    "importlib.reload(geoai)\n",
    "importlib.reload(geoai.label_utils)\n",
    "importlib.reload(geoai.utils)"
   ]
  },
  {
   "cell_type": "markdown",
   "id": "44c48b33",
   "metadata": {},
   "source": [
    "## Assign nodata to S2"
   ]
  },
  {
   "cell_type": "code",
   "execution_count": 1,
   "id": "05dcc6f6",
   "metadata": {},
   "outputs": [
    {
     "name": "stdout",
     "output_type": "stream",
     "text": [
      "Saved: ../data/raw/images/S2H_2022_2022_05_16_nodata.tif\n",
      "\n",
      "Statistics (excluding nodata=-9999.0):\n",
      "Min: 0.0\n",
      "Max: 18440.0\n",
      "Mean: 1841.4221456917764\n",
      "Valid pixels: 390103569\n",
      "Nodata pixels: 1637631\n"
     ]
    }
   ],
   "source": [
    "import rasterio\n",
    "import numpy as np\n",
    "\n",
    "in_path = \"/Users/dikaizm/Library/CloudStorage/GoogleDrive-dikamaah@gmail.com/My Drive/S2_Annual_15d_sm_stockton/S2H_2022_2022_05_16.tif\"\n",
    "out_path = \"../data/raw/images/S2H_2022_2022_05_16_nodata.tif\"\n",
    "\n",
    "with rasterio.open(in_path) as src:\n",
    "    profile = src.profile\n",
    "    profile.update(\n",
    "        dtype=\"float64\",  \n",
    "        nodata=-9999.0\n",
    "    )\n",
    "    data = src.read().astype(np.float64)\n",
    "    \n",
    "    # Replace BOTH invalid values AND NaNs with nodata\n",
    "    mask = (data < 0) | np.isnan(data) | np.isinf(data)\n",
    "    fixed = np.where(mask, -9999.0, data)\n",
    "    \n",
    "    with rasterio.open(out_path, \"w\", **profile) as dst:\n",
    "        dst.write(fixed)\n",
    "\n",
    "print(\"Saved:\", out_path)\n",
    "\n",
    "# Verify the output\n",
    "with rasterio.open(out_path) as src:\n",
    "    data = src.read(masked=True)  # This respects the nodata value\n",
    "    print(f\"\\nStatistics (excluding nodata={src.nodata}):\")\n",
    "    print(f\"Min: {data.min()}\")\n",
    "    print(f\"Max: {data.max()}\")\n",
    "    print(f\"Mean: {data.mean()}\")\n",
    "    print(f\"Valid pixels: {data.count()}\")\n",
    "    print(f\"Nodata pixels: {data.mask.sum()}\")"
   ]
  },
  {
   "cell_type": "code",
   "execution_count": null,
   "id": "77a8d41c",
   "metadata": {},
   "outputs": [
    {
     "data": {
      "text/plain": [
       "{'driver': 'GTiff',\n",
       " 'width': 7400,\n",
       " 'height': 5882,\n",
       " 'count': 9,\n",
       " 'dtype': 'float64',\n",
       " 'crs': 'EPSG:4326',\n",
       " 'transform': Affine(8.983152841195215e-05, 0.0, -121.69063928936463,\n",
       "        0.0, -8.983152841195215e-05, 38.24316810706468),\n",
       " 'bounds': BoundingBox(left=-121.69063928936463, bottom=37.71477905694558, right=-121.02588597911618, top=38.24316810706468),\n",
       " 'resolution': (8.983152841195215e-05, 8.983152841195215e-05),\n",
       " 'nodata': -9999.0,\n",
       " 'band_stats': [{'band': 1,\n",
       "   'min': 0.0,\n",
       "   'max': 18440.0,\n",
       "   'mean': 736.397507075871,\n",
       "   'std': 399.5078052658123},\n",
       "  {'band': 2,\n",
       "   'min': 0.0,\n",
       "   'max': 17176.0,\n",
       "   'mean': 999.1946307750904,\n",
       "   'std': 434.1955835654333},\n",
       "  {'band': 3,\n",
       "   'min': 28.0,\n",
       "   'max': 16408.0,\n",
       "   'mean': 1160.9328011377409,\n",
       "   'std': 612.636560165441},\n",
       "  {'band': 4,\n",
       "   'min': 0.0,\n",
       "   'max': 16016.0,\n",
       "   'mean': 1501.952374274484,\n",
       "   'std': 562.0497565206477},\n",
       "  {'band': 5,\n",
       "   'min': 0.0,\n",
       "   'max': 15845.0,\n",
       "   'mean': 2257.6599684954435,\n",
       "   'std': 692.8072474568361},\n",
       "  {'band': 6,\n",
       "   'min': 0.0,\n",
       "   'max': 15745.0,\n",
       "   'mean': 2563.5472825474203,\n",
       "   'std': 852.548578075894},\n",
       "  {'band': 7,\n",
       "   'min': 0.0,\n",
       "   'max': 15720.0,\n",
       "   'mean': 2742.367180433307,\n",
       "   'std': 928.564840118179},\n",
       "  {'band': 8,\n",
       "   'min': 104.0,\n",
       "   'max': 15036.0,\n",
       "   'mean': 2599.485648176677,\n",
       "   'std': 828.2588851729731},\n",
       "  {'band': 9,\n",
       "   'min': 39.0,\n",
       "   'max': 15075.0,\n",
       "   'mean': 2011.2619183099553,\n",
       "   'std': 819.0701962957563}]}"
      ]
     },
     "execution_count": 3,
     "metadata": {},
     "output_type": "execute_result"
    }
   ],
   "source": [
    "s2_path = \"../data/raw/images/S2H_2022_2022_05_16_nodata.tif\"\n",
    "\n",
    "geoai.get_raster_info(s2_path)"
   ]
  },
  {
   "cell_type": "code",
   "execution_count": 4,
   "id": "4b111749",
   "metadata": {},
   "outputs": [
    {
     "data": {
      "text/plain": [
       "{'driver': 'GTiff',\n",
       " 'width': 3091,\n",
       " 'height': 2418,\n",
       " 'count': 1,\n",
       " 'dtype': 'uint8',\n",
       " 'crs': 'EPSG:4326',\n",
       " 'transform': Affine(0.00032711129828534287, 0.0, -121.866409315,\n",
       "        0.0, -0.00032711129818031263, 38.374180603),\n",
       " 'bounds': BoundingBox(left=-121.866409315, bottom=37.583225484, right=-120.855308292, top=38.374180603),\n",
       " 'resolution': (0.00032711129828534287, 0.00032711129818031263),\n",
       " 'nodata': None,\n",
       " 'band_stats': [{'band': 1,\n",
       "   'min': 0.0,\n",
       "   'max': 242.0,\n",
       "   'mean': 63.62810852714423,\n",
       "   'std': 65.9296354745592}]}"
      ]
     },
     "execution_count": 4,
     "metadata": {},
     "output_type": "execute_result"
    }
   ],
   "source": [
    "cdl_path = \"../data/raw/cdl/stockton/2022_30m_cdls.tif\"\n",
    "\n",
    "geoai.get_raster_info(cdl_path)"
   ]
  },
  {
   "cell_type": "markdown",
   "id": "eef78076",
   "metadata": {},
   "source": [
    "## Filter CDL Label"
   ]
  },
  {
   "cell_type": "code",
   "execution_count": 9,
   "id": "b0b52018",
   "metadata": {},
   "outputs": [
    {
     "name": "stdout",
     "output_type": "stream",
     "text": [
      "✅ Saved filtered raster: ../data/raw/cdl/sacramento_2/2023_30m_cdls_7c.tif\n"
     ]
    }
   ],
   "source": [
    "import sys\n",
    "sys.path.append(\"../\")\n",
    "\n",
    "from utils import label\n",
    "\n",
    "label.label_filtering(\n",
    "    in_path=\"../data/raw/cdl/sacramento_2/2023_30m_cdls.tif\",\n",
    "    out_path=\"../data/raw/cdl/sacramento_2/2023_30m_cdls_7c.tif\",\n",
    "    keep_classes=[1, 3, 24, 54, 69, 75, 76]\n",
    ")"
   ]
  }
 ],
 "metadata": {
  "kernelspec": {
   "display_name": ".venv",
   "language": "python",
   "name": "python3"
  },
  "language_info": {
   "codemirror_mode": {
    "name": "ipython",
    "version": 3
   },
   "file_extension": ".py",
   "mimetype": "text/x-python",
   "name": "python",
   "nbconvert_exporter": "python",
   "pygments_lexer": "ipython3",
   "version": "3.11.13"
  }
 },
 "nbformat": 4,
 "nbformat_minor": 5
}
