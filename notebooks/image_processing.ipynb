{
 "cells": [
  {
   "cell_type": "code",
   "execution_count": null,
   "id": "05dcc6f6",
   "metadata": {},
   "outputs": [],
   "source": [
    "import rasterio\n",
    "import numpy as np\n",
    "\n",
    "in_path = \"../data/raw/images/S2H_2024_2024_07_29.tif\"\n",
    "out_path = \"../data/raw/images/S2H_2024_2024_07_29_nodata.tif\"\n",
    "\n",
    "with rasterio.open(in_path) as src:\n",
    "    profile = src.profile\n",
    "    profile.update(\n",
    "        dtype=\"float64\",  \n",
    "        nodata=-9999.0\n",
    "    )\n",
    "    data = src.read().astype(np.float64)\n",
    "    \n",
    "    # Replace BOTH invalid values AND NaNs with nodata\n",
    "    mask = (data < 0) | np.isnan(data) | np.isinf(data)\n",
    "    fixed = np.where(mask, -9999.0, data)\n",
    "    \n",
    "    with rasterio.open(out_path, \"w\", **profile) as dst:\n",
    "        dst.write(fixed)\n",
    "\n",
    "print(\"Saved:\", out_path)\n",
    "\n",
    "# Verify the output\n",
    "with rasterio.open(out_path) as src:\n",
    "    data = src.read(masked=True)  # This respects the nodata value\n",
    "    print(f\"\\nStatistics (excluding nodata={src.nodata}):\")\n",
    "    print(f\"Min: {data.min()}\")\n",
    "    print(f\"Max: {data.max()}\")\n",
    "    print(f\"Mean: {data.mean()}\")\n",
    "    print(f\"Valid pixels: {data.count()}\")\n",
    "    print(f\"Nodata pixels: {data.mask.sum()}\")"
   ]
  }
 ],
 "metadata": {
  "language_info": {
   "name": "python"
  }
 },
 "nbformat": 4,
 "nbformat_minor": 5
}
